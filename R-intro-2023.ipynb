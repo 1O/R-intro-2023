{
 "cells": [
  {
   "cell_type": "markdown",
   "id": "c88ed217",
   "metadata": {},
   "source": [
    "# Die Schweizermesser für Datenaufbereitung und Visualisierung"
   ]
  },
  {
   "cell_type": "markdown",
   "id": "20961b0d",
   "metadata": {},
   "source": [
    "Von den hunderten Paketen unterschiedlicher Spezialisierung sind diese drei für mich unverzichtbar:"
   ]
  },
  {
   "cell_type": "code",
   "execution_count": null,
   "id": "30ff4b04",
   "metadata": {},
   "outputs": [],
   "source": [
    "library(ggplot2) ## Visualisierung\n",
    "library(dplyr) ## Datenaufbereitung\n",
    "library(tidyr) ## \"\n",
    "## library(rio) ## Datenaustausch zwischen R und dem Rest der Welt"
   ]
  },
  {
   "cell_type": "markdown",
   "id": "192292cc",
   "metadata": {},
   "source": [
    "heute brauchen wir außerdem (statt {rio})"
   ]
  },
  {
   "cell_type": "code",
   "execution_count": 3,
   "id": "340ea5ab-661f-476b-8670-70ee5453dbfd",
   "metadata": {
    "collapsed": true
   },
   "outputs": [
    {
     "name": "stderr",
     "output_type": "stream",
     "text": [
      "Warning message:\n",
      "\"Paket 'ggplot2' wurde unter R Version 4.1.3 erstellt\"\n",
      "Warning message:\n",
      "\"Paket 'dplyr' wurde unter R Version 4.1.3 erstellt\"\n",
      "\n",
      "Attache Paket: 'dplyr'\n",
      "\n",
      "\n",
      "Die folgenden Objekte sind maskiert von 'package:stats':\n",
      "\n",
      "    filter, lag\n",
      "\n",
      "\n",
      "Die folgenden Objekte sind maskiert von 'package:base':\n",
      "\n",
      "    intersect, setdiff, setequal, union\n",
      "\n",
      "\n",
      "Warning message:\n",
      "\"Paket 'tidyr' wurde unter R Version 4.1.3 erstellt\"\n",
      "Warning message:\n",
      "\"Paket 'purrr' wurde unter R Version 4.1.3 erstellt\"\n",
      "\n",
      "Attache Paket: 'purrr'\n",
      "\n",
      "\n",
      "Das folgende Objekt ist maskiert 'package:jsonlite':\n",
      "\n",
      "    flatten\n",
      "\n",
      "\n",
      "Warning message:\n",
      "\"Paket 'readr' wurde unter R Version 4.1.3 erstellt\"\n"
     ]
    }
   ],
   "source": [
    "library(readr)"
   ]
  },
  {
   "cell_type": "markdown",
   "id": "31e08878-8841-4914-8134-8b3a6926ef2f",
   "metadata": {},
   "source": [
    "# Daten von außen nach R\n",
    "Für die heutige Übung werfen wir einen Blick auf die Nährstoffgehalte von Bäumen. Die Messdaten stammen vom Integrated Monitoring - Standort Zöbelboden.\n",
    "\n",
    "Hier wird `read_csv` verwendet, um CSV von einer URL abzurufen. Für die Praxis empfehle ich den Universal-Importer/Exporter [**{rio}**](https://github.com/gesistsa/rio), der auf dieser Plattform noch nicht verfügbar ist."
   ]
  },
  {
   "cell_type": "code",
   "execution_count": 4,
   "id": "93a8ab61-c65a-449a-a167-8d332e7997cb",
   "metadata": {},
   "outputs": [
    {
     "name": "stderr",
     "output_type": "stream",
     "text": [
      "\u001b[1mRows: \u001b[22m\u001b[34m483\u001b[39m \u001b[1mColumns: \u001b[22m\u001b[34m13\u001b[39m\n",
      "\u001b[36m--\u001b[39m \u001b[1mColumn specification\u001b[22m \u001b[36m------------------------------------------------------------------------------------------------\u001b[39m\n",
      "\u001b[1mDelimiter:\u001b[22m \",\"\n",
      "\u001b[31mchr\u001b[39m  (2): art, standort\n",
      "\u001b[32mdbl\u001b[39m (11): jahr, jahrgang, n, s, ca, na, k, mg, p, mn, TC\n",
      "\n",
      "\u001b[36mi\u001b[39m Use `spec()` to retrieve the full column specification for this data.\n",
      "\u001b[36mi\u001b[39m Specify the column types or set `show_col_types = FALSE` to quiet this message.\n"
     ]
    }
   ],
   "source": [
    "d <- read_csv('https://raw.githubusercontent.com/1O/R-intro-2023/master/assets/elementgehalt.csv')"
   ]
  },
  {
   "cell_type": "markdown",
   "id": "d9ed870f-1450-4995-81ef-c726136e0a73",
   "metadata": {},
   "source": [
    "# Überblick verschaffen"
   ]
  },
  {
   "cell_type": "markdown",
   "id": "e2ce64d4-40d7-46ea-9835-69d5ae8e9a4a",
   "metadata": {},
   "source": [
    "Um ein Gefühl für die Daten zu bekommen, gibt es in R verschiedene Befehle.\n",
    "\n",
    "Zum Beispiel: `str` (Struktur), `head` bzw `tail` (Beginn/Ende) oder `glimpse` (**{tibble}**)\n"
   ]
  },
  {
   "cell_type": "code",
   "execution_count": 5,
   "id": "b7d9c740",
   "metadata": {
    "collapsed": true
   },
   "outputs": [
    {
     "name": "stdout",
     "output_type": "stream",
     "text": [
      "spc_tbl_ [483 x 13] (S3: spec_tbl_df/tbl_df/tbl/data.frame)\n",
      " $ art     : chr [1:483] \"Buche\" \"Buche\" \"Buche\" \"Buche\" ...\n",
      " $ standort: chr [1:483] \"site_300\" \"site_300\" \"site_300\" \"site_300\" ...\n",
      " $ jahr    : num [1:483] 1993 1993 1994 1994 1995 ...\n",
      " $ jahrgang: num [1:483] 1 1 1 1 1 1 1 1 1 1 ...\n",
      " $ n       : num [1:483] 25.4 25.2 24.5 23.6 NA ...\n",
      " $ s       : num [1:483] 1.32 1.53 1.49 1.71 1.63 ...\n",
      " $ ca      : num [1:483] 11.7 11.8 14.7 12.9 13.3 ...\n",
      " $ na      : num [1:483] 0.0414 0.0442 0.0299 0.0339 0.0393 ...\n",
      " $ k       : num [1:483] 5.62 7.42 5.72 7.72 3.31 ...\n",
      " $ mg      : num [1:483] 2.82 2.02 3.08 2.28 4.57 ...\n",
      " $ p       : num [1:483] 0.829 0.964 1.179 NA 0.951 ...\n",
      " $ mn      : num [1:483] NA NA NA NA NA ...\n",
      " $ TC      : num [1:483] 542 525 512 514 515 ...\n",
      " - attr(*, \"spec\")=\n",
      "  .. cols(\n",
      "  ..   art = \u001b[31mcol_character()\u001b[39m,\n",
      "  ..   standort = \u001b[31mcol_character()\u001b[39m,\n",
      "  ..   jahr = \u001b[32mcol_double()\u001b[39m,\n",
      "  ..   jahrgang = \u001b[32mcol_double()\u001b[39m,\n",
      "  ..   n = \u001b[32mcol_double()\u001b[39m,\n",
      "  ..   s = \u001b[32mcol_double()\u001b[39m,\n",
      "  ..   ca = \u001b[32mcol_double()\u001b[39m,\n",
      "  ..   na = \u001b[32mcol_double()\u001b[39m,\n",
      "  ..   k = \u001b[32mcol_double()\u001b[39m,\n",
      "  ..   mg = \u001b[32mcol_double()\u001b[39m,\n",
      "  ..   p = \u001b[32mcol_double()\u001b[39m,\n",
      "  ..   mn = \u001b[32mcol_double()\u001b[39m,\n",
      "  ..   TC = \u001b[32mcol_double()\u001b[39m\n",
      "  .. )\n",
      " - attr(*, \"problems\")=<externalptr> \n"
     ]
    }
   ],
   "source": [
    "str(d)"
   ]
  },
  {
   "cell_type": "code",
   "execution_count": 8,
   "id": "caa390b5",
   "metadata": {
    "collapsed": true
   },
   "outputs": [
    {
     "data": {
      "text/html": [
       "<table class=\"dataframe\">\n",
       "<caption>A tibble: 2 × 13</caption>\n",
       "<thead>\n",
       "\t<tr><th scope=col>art</th><th scope=col>standort</th><th scope=col>jahr</th><th scope=col>jahrgang</th><th scope=col>n</th><th scope=col>s</th><th scope=col>ca</th><th scope=col>na</th><th scope=col>k</th><th scope=col>mg</th><th scope=col>p</th><th scope=col>mn</th><th scope=col>TC</th></tr>\n",
       "\t<tr><th scope=col>&lt;chr&gt;</th><th scope=col>&lt;chr&gt;</th><th scope=col>&lt;dbl&gt;</th><th scope=col>&lt;dbl&gt;</th><th scope=col>&lt;dbl&gt;</th><th scope=col>&lt;dbl&gt;</th><th scope=col>&lt;dbl&gt;</th><th scope=col>&lt;dbl&gt;</th><th scope=col>&lt;dbl&gt;</th><th scope=col>&lt;dbl&gt;</th><th scope=col>&lt;dbl&gt;</th><th scope=col>&lt;dbl&gt;</th><th scope=col>&lt;dbl&gt;</th></tr>\n",
       "</thead>\n",
       "<tbody>\n",
       "\t<tr><td>Buche</td><td>site_300</td><td>1993</td><td>1</td><td>25.35832</td><td>1.323043</td><td>11.69129</td><td>0.04137817</td><td>5.621830</td><td>2.819184</td><td>0.8294377</td><td>NA</td><td>542.4476</td></tr>\n",
       "\t<tr><td>Buche</td><td>site_300</td><td>1993</td><td>1</td><td>25.21377</td><td>1.534751</td><td>11.77154</td><td>0.04416795</td><td>7.416137</td><td>2.022583</td><td>0.9636045</td><td>NA</td><td>525.1041</td></tr>\n",
       "</tbody>\n",
       "</table>\n"
      ],
      "text/latex": [
       "A tibble: 2 × 13\n",
       "\\begin{tabular}{lllllllllllll}\n",
       " art & standort & jahr & jahrgang & n & s & ca & na & k & mg & p & mn & TC\\\\\n",
       " <chr> & <chr> & <dbl> & <dbl> & <dbl> & <dbl> & <dbl> & <dbl> & <dbl> & <dbl> & <dbl> & <dbl> & <dbl>\\\\\n",
       "\\hline\n",
       "\t Buche & site\\_300 & 1993 & 1 & 25.35832 & 1.323043 & 11.69129 & 0.04137817 & 5.621830 & 2.819184 & 0.8294377 & NA & 542.4476\\\\\n",
       "\t Buche & site\\_300 & 1993 & 1 & 25.21377 & 1.534751 & 11.77154 & 0.04416795 & 7.416137 & 2.022583 & 0.9636045 & NA & 525.1041\\\\\n",
       "\\end{tabular}\n"
      ],
      "text/markdown": [
       "\n",
       "A tibble: 2 × 13\n",
       "\n",
       "| art &lt;chr&gt; | standort &lt;chr&gt; | jahr &lt;dbl&gt; | jahrgang &lt;dbl&gt; | n &lt;dbl&gt; | s &lt;dbl&gt; | ca &lt;dbl&gt; | na &lt;dbl&gt; | k &lt;dbl&gt; | mg &lt;dbl&gt; | p &lt;dbl&gt; | mn &lt;dbl&gt; | TC &lt;dbl&gt; |\n",
       "|---|---|---|---|---|---|---|---|---|---|---|---|---|\n",
       "| Buche | site_300 | 1993 | 1 | 25.35832 | 1.323043 | 11.69129 | 0.04137817 | 5.621830 | 2.819184 | 0.8294377 | NA | 542.4476 |\n",
       "| Buche | site_300 | 1993 | 1 | 25.21377 | 1.534751 | 11.77154 | 0.04416795 | 7.416137 | 2.022583 | 0.9636045 | NA | 525.1041 |\n",
       "\n"
      ],
      "text/plain": [
       "  art   standort jahr jahrgang n        s        ca       na         k       \n",
       "1 Buche site_300 1993 1        25.35832 1.323043 11.69129 0.04137817 5.621830\n",
       "2 Buche site_300 1993 1        25.21377 1.534751 11.77154 0.04416795 7.416137\n",
       "  mg       p         mn TC      \n",
       "1 2.819184 0.8294377 NA 542.4476\n",
       "2 2.022583 0.9636045 NA 525.1041"
      ]
     },
     "metadata": {},
     "output_type": "display_data"
    }
   ],
   "source": [
    "head(d, 2) ## zeigt erste zwei Zeilen"
   ]
  },
  {
   "cell_type": "code",
   "execution_count": 10,
   "id": "92e10c36",
   "metadata": {},
   "outputs": [
    {
     "name": "stdout",
     "output_type": "stream",
     "text": [
      "Rows: 483\n",
      "Columns: 13\n",
      "$ art      \u001b[3m\u001b[90m<chr>\u001b[39m\u001b[23m \"Buche\", \"Buche\", \"Buche\", \"Buche\", \"Buche\", \"Buche\", \"Buche\"~\n",
      "$ standort \u001b[3m\u001b[90m<chr>\u001b[39m\u001b[23m \"site_300\", \"site_300\", \"site_300\", \"site_300\", \"site_300\", \"~\n",
      "$ jahr     \u001b[3m\u001b[90m<dbl>\u001b[39m\u001b[23m 1993, 1993, 1994, 1994, 1995, 1995, 1996, 1996, 1997, 1997, 1~\n",
      "$ jahrgang \u001b[3m\u001b[90m<dbl>\u001b[39m\u001b[23m 1, 1, 1, 1, 1, 1, 1, 1, 1, 1, 1, 1, 1, 1, 1, 1, 1, 1, 1, 1, 1~\n",
      "$ n        \u001b[3m\u001b[90m<dbl>\u001b[39m\u001b[23m 25.35832, 25.21377, 24.54642, 23.55460, NA, 23.07692, 21.8102~\n",
      "$ s        \u001b[3m\u001b[90m<dbl>\u001b[39m\u001b[23m 1.323043, 1.534751, 1.494130, 1.713062, 1.633987, 1.758242, 1~\n",
      "$ ca       \u001b[3m\u001b[90m<dbl>\u001b[39m\u001b[23m 11.691290, 11.771541, 14.668090, 12.941113, 13.275599, 12.558~\n",
      "$ na       \u001b[3m\u001b[90m<dbl>\u001b[39m\u001b[23m 0.04137817, 0.04416795, 0.02988260, 0.03394004, 0.03929194, 0~\n",
      "$ k        \u001b[3m\u001b[90m<dbl>\u001b[39m\u001b[23m 5.621830, 7.416137, 5.720384, 7.716274, 3.309368, 5.446154, 4~\n",
      "$ mg       \u001b[3m\u001b[90m<dbl>\u001b[39m\u001b[23m 2.819184, 2.022583, 3.076841, 2.280514, 4.568627, 2.559341, 2~\n",
      "$ p        \u001b[3m\u001b[90m<dbl>\u001b[39m\u001b[23m 0.8294377, 0.9636045, 1.1787620, NA, 0.9514161, 0.9734066, 0.~\n",
      "$ mn       \u001b[3m\u001b[90m<dbl>\u001b[39m\u001b[23m NA, NA, NA, NA, NA, NA, NA, 0.1124295, NA, 0.1254634, NA, NA,~\n",
      "$ TC       \u001b[3m\u001b[90m<dbl>\u001b[39m\u001b[23m 542.4476, 525.1041, 512.2732, 513.9186, 515.2505, 515.3846, 4~\n"
     ]
    }
   ],
   "source": [
    "tibble::glimpse(d)"
   ]
  },
  {
   "cell_type": "markdown",
   "id": "9a7697d9",
   "metadata": {},
   "source": [
    "`pairs` erstellt einen scatterplot-Matrix. Nichtnumerische Variablen erzeugen einen Fehler. Deswegen wählen wir, vorerst \"händisch\",\n",
    "numerische Variablen, und zwar alle von `n` (Stickstoff) bis `mn` (Mangan).\n",
    "\n",
    "... und zwar gleich mit den Befehlen aus dem **tidyverse** und einer Auswerte-Pipeline, für die wir den **pipe operator** `%>%` verwenden. Der lässt sich (außer in dieser Übungsumgebung dzt.) mit <kbd>CTRL</kbd>+<kbd>SHIFT</kbd>+<kbd>M</kbd> einfügen."
   ]
  },
  {
   "cell_type": "code",
   "execution_count": 13,
   "id": "1eb2e484",
   "metadata": {},
   "outputs": [
    {
     "data": {
      "image/png": "[encoded data removed]",
      "text/plain": [
       "plot without title"
      ]
     },
     "metadata": {
      "image/png": {
       "height": 420,
       "width": 420
      }
     },
     "output_type": "display_data"
    }
   ],
   "source": [
    "d %>%\n",
    "    select(n:mn) %>%\n",
    "    pairs"
   ]
  },
  {
   "cell_type": "markdown",
   "id": "f965faa1-aec7-44af-b237-a15788f54047",
   "metadata": {},
   "source": [
    "💡 **best practice**\n",
    "\n",
    "Pro Auswertung nur eine Datenquelle als *single source of truth* einlesen und erst das Endergebnis wieder speichern (als R-Datei oder Export). Nach Möglichkeit keine Zwischenergebnisse als R-Objekte im Arbeitsspeicher anlegen und darauf zurückgreifen. Damit ist sichergestellt, dass veraltete globale Objekte (`tmp`, `daten_bereinigt` etc.) nicht an anderer Stelle im Code versehentlich weiterverwendet werden.\n",
    "\n",
    "Man kann zwar mit `save.image()` den gesamten R-\"Desktop\" speichern und bei nächster Gelegenheit wieder laden, aus o.g. Gründen rate ich davon aber ab.\n",
    "\n",
    "Beispiele:\n",
    "```\n",
    "d <- import('./data/meine_Messdaten.xlsx')\n",
    "\n",
    "d %>%\n",
    "    Befehl_1 %>% \n",
    "    Befehl_2 %>%\n",
    "    Befehl_3 %>%\n",
    "    ggplot() ## erstellt Diagramm\n",
    "\n",
    "ggsave('./images/Trenddiagramm.png')\n",
    "```\n",
    "oder:\n",
    "```\n",
    "d %>%\n",
    "    ## ... Auswertung\n",
    "    Befehl_3 %>%\n",
    "    export('./data/Ergebnisse.xlsx)\n",
    "```    "
   ]
  },
  {
   "cell_type": "markdown",
   "id": "b552753b",
   "metadata": {},
   "source": [
    "# Datensäuberung und -beschreibung\n",
    "Darunter fällt wschl. der größte Teil unserer Arbeiten, bevor es noch zu irgendeiner tiefergehenden Analyse kommt. Oft ist es damit auch schon wieder getan.\n"
   ]
  },
  {
   "cell_type": "code",
   "execution_count": 14,
   "id": "647fd5b2",
   "metadata": {},
   "outputs": [
    {
     "data": {
      "text/html": [
       "<table class=\"dataframe\">\n",
       "<caption>A tibble: 1 × 13</caption>\n",
       "<thead>\n",
       "\t<tr><th scope=col>art</th><th scope=col>standort</th><th scope=col>jahr</th><th scope=col>jahrgang</th><th scope=col>n</th><th scope=col>s</th><th scope=col>ca</th><th scope=col>na</th><th scope=col>k</th><th scope=col>mg</th><th scope=col>p</th><th scope=col>mn</th><th scope=col>TC</th></tr>\n",
       "\t<tr><th scope=col>&lt;chr&gt;</th><th scope=col>&lt;chr&gt;</th><th scope=col>&lt;dbl&gt;</th><th scope=col>&lt;dbl&gt;</th><th scope=col>&lt;dbl&gt;</th><th scope=col>&lt;dbl&gt;</th><th scope=col>&lt;dbl&gt;</th><th scope=col>&lt;dbl&gt;</th><th scope=col>&lt;dbl&gt;</th><th scope=col>&lt;dbl&gt;</th><th scope=col>&lt;dbl&gt;</th><th scope=col>&lt;dbl&gt;</th><th scope=col>&lt;dbl&gt;</th></tr>\n",
       "</thead>\n",
       "<tbody>\n",
       "\t<tr><td>Buche</td><td>site_300</td><td>1993</td><td>1</td><td>25.35832</td><td>1.323043</td><td>11.69129</td><td>0.04137817</td><td>5.62183</td><td>2.819184</td><td>0.8294377</td><td>NA</td><td>542.4476</td></tr>\n",
       "</tbody>\n",
       "</table>\n"
      ],
      "text/latex": [
       "A tibble: 1 × 13\n",
       "\\begin{tabular}{lllllllllllll}\n",
       " art & standort & jahr & jahrgang & n & s & ca & na & k & mg & p & mn & TC\\\\\n",
       " <chr> & <chr> & <dbl> & <dbl> & <dbl> & <dbl> & <dbl> & <dbl> & <dbl> & <dbl> & <dbl> & <dbl> & <dbl>\\\\\n",
       "\\hline\n",
       "\t Buche & site\\_300 & 1993 & 1 & 25.35832 & 1.323043 & 11.69129 & 0.04137817 & 5.62183 & 2.819184 & 0.8294377 & NA & 542.4476\\\\\n",
       "\\end{tabular}\n"
      ],
      "text/markdown": [
       "\n",
       "A tibble: 1 × 13\n",
       "\n",
       "| art &lt;chr&gt; | standort &lt;chr&gt; | jahr &lt;dbl&gt; | jahrgang &lt;dbl&gt; | n &lt;dbl&gt; | s &lt;dbl&gt; | ca &lt;dbl&gt; | na &lt;dbl&gt; | k &lt;dbl&gt; | mg &lt;dbl&gt; | p &lt;dbl&gt; | mn &lt;dbl&gt; | TC &lt;dbl&gt; |\n",
       "|---|---|---|---|---|---|---|---|---|---|---|---|---|\n",
       "| Buche | site_300 | 1993 | 1 | 25.35832 | 1.323043 | 11.69129 | 0.04137817 | 5.62183 | 2.819184 | 0.8294377 | NA | 542.4476 |\n",
       "\n"
      ],
      "text/plain": [
       "  art   standort jahr jahrgang n        s        ca       na         k      \n",
       "1 Buche site_300 1993 1        25.35832 1.323043 11.69129 0.04137817 5.62183\n",
       "  mg       p         mn TC      \n",
       "1 2.819184 0.8294377 NA 542.4476"
      ]
     },
     "metadata": {},
     "output_type": "display_data"
    }
   ],
   "source": [
    "head(d, 1)"
   ]
  },
  {
   "cell_type": "markdown",
   "id": "7379922c",
   "metadata": {},
   "source": [
    "💡 **best practice**\n",
    "\n",
    "Anders als in Excel üblich, lassen sich sich Daten meist effizienter analysieren, wenn sie vom Quer- ins Hochformat gebracht werden [[**Wieso?**](https://tidyr.tidyverse.org/articles/tidy-data.html)].\n",
    "\n",
    "In unserem Beispiel heißt das: die Ausgangstabelle so pivotieren, dass aus den neun Spalten mit Elementgehalten zwei Spalten entstehen: eine mit der Elementbezeichnung, eine mit dem Messwert."
   ]
  },
  {
   "cell_type": "code",
   "execution_count": 23,
   "id": "814e454d",
   "metadata": {},
   "outputs": [],
   "source": [
    "d_long <- \n",
    "    d %>% ## zu Übungszwecken wird hier doch ein Zwischenergebnis gespeichert\n",
    "    pivot_longer(cols = n:TC, \n",
    "                 names_to = 'element',\n",
    "                 values_to = 'messwert'\n",
    "                 )"
   ]
  },
  {
   "cell_type": "code",
   "execution_count": 24,
   "id": "c23ddbf8",
   "metadata": {},
   "outputs": [
    {
     "data": {
      "text/html": [
       "<table class=\"dataframe\">\n",
       "<caption>A tibble: 5 × 6</caption>\n",
       "<thead>\n",
       "\t<tr><th scope=col>art</th><th scope=col>standort</th><th scope=col>jahr</th><th scope=col>jahrgang</th><th scope=col>element</th><th scope=col>messwert</th></tr>\n",
       "\t<tr><th scope=col>&lt;chr&gt;</th><th scope=col>&lt;chr&gt;</th><th scope=col>&lt;dbl&gt;</th><th scope=col>&lt;dbl&gt;</th><th scope=col>&lt;chr&gt;</th><th scope=col>&lt;dbl&gt;</th></tr>\n",
       "</thead>\n",
       "<tbody>\n",
       "\t<tr><td>Fichte</td><td>site_300</td><td>2003</td><td>2</td><td>TC</td><td>485.172378</td></tr>\n",
       "\t<tr><td>Buche </td><td>site_300</td><td>2008</td><td>1</td><td>mg</td><td>  1.543674</td></tr>\n",
       "\t<tr><td>Fichte</td><td>site_300</td><td>1996</td><td>2</td><td>s </td><td>        NA</td></tr>\n",
       "\t<tr><td>Fichte</td><td>site_700</td><td>2016</td><td>1</td><td>n </td><td>  9.013730</td></tr>\n",
       "\t<tr><td>Buche </td><td>site_300</td><td>1998</td><td>1</td><td>k </td><td>  7.706587</td></tr>\n",
       "</tbody>\n",
       "</table>\n"
      ],
      "text/latex": [
       "A tibble: 5 × 6\n",
       "\\begin{tabular}{llllll}\n",
       " art & standort & jahr & jahrgang & element & messwert\\\\\n",
       " <chr> & <chr> & <dbl> & <dbl> & <chr> & <dbl>\\\\\n",
       "\\hline\n",
       "\t Fichte & site\\_300 & 2003 & 2 & TC & 485.172378\\\\\n",
       "\t Buche  & site\\_300 & 2008 & 1 & mg &   1.543674\\\\\n",
       "\t Fichte & site\\_300 & 1996 & 2 & s  &         NA\\\\\n",
       "\t Fichte & site\\_700 & 2016 & 1 & n  &   9.013730\\\\\n",
       "\t Buche  & site\\_300 & 1998 & 1 & k  &   7.706587\\\\\n",
       "\\end{tabular}\n"
      ],
      "text/markdown": [
       "\n",
       "A tibble: 5 × 6\n",
       "\n",
       "| art &lt;chr&gt; | standort &lt;chr&gt; | jahr &lt;dbl&gt; | jahrgang &lt;dbl&gt; | element &lt;chr&gt; | messwert &lt;dbl&gt; |\n",
       "|---|---|---|---|---|---|\n",
       "| Fichte | site_300 | 2003 | 2 | TC | 485.172378 |\n",
       "| Buche  | site_300 | 2008 | 1 | mg |   1.543674 |\n",
       "| Fichte | site_300 | 1996 | 2 | s  |         NA |\n",
       "| Fichte | site_700 | 2016 | 1 | n  |   9.013730 |\n",
       "| Buche  | site_300 | 1998 | 1 | k  |   7.706587 |\n",
       "\n"
      ],
      "text/plain": [
       "  art    standort jahr jahrgang element messwert  \n",
       "1 Fichte site_300 2003 2        TC      485.172378\n",
       "2 Buche  site_300 2008 1        mg        1.543674\n",
       "3 Fichte site_300 1996 2        s               NA\n",
       "4 Fichte site_700 2016 1        n         9.013730\n",
       "5 Buche  site_300 1998 1        k         7.706587"
      ]
     },
     "metadata": {},
     "output_type": "display_data"
    }
   ],
   "source": [
    "d_long %>% sample_n(5) ## 5 zufällig gewählte Zeilen (Beobachtungen) aus d_long"
   ]
  },
  {
   "cell_type": "markdown",
   "id": "ff0a239c",
   "metadata": {},
   "source": [
    "Durch das Hochformat lassen sich einfach beschreibende Statistiken für Untergruppen erstellen:"
   ]
  },
  {
   "cell_type": "code",
   "execution_count": 29,
   "id": "7e38b85f",
   "metadata": {},
   "outputs": [
    {
     "data": {
      "text/html": [
       "<table class=\"dataframe\">\n",
       "<caption>A tibble: 5 × 4</caption>\n",
       "<thead>\n",
       "\t<tr><th scope=col>art</th><th scope=col>jahrgang</th><th scope=col>element</th><th scope=col>hoechstwert</th></tr>\n",
       "\t<tr><th scope=col>&lt;chr&gt;</th><th scope=col>&lt;dbl&gt;</th><th scope=col>&lt;chr&gt;</th><th scope=col>&lt;dbl&gt;</th></tr>\n",
       "</thead>\n",
       "<tbody>\n",
       "\t<tr><td>Fichte</td><td>2</td><td>TC</td><td>550.9989485</td></tr>\n",
       "\t<tr><td>Buche </td><td>1</td><td>k </td><td>  8.5959052</td></tr>\n",
       "\t<tr><td>Fichte</td><td>2</td><td>s </td><td>  1.1037528</td></tr>\n",
       "\t<tr><td>Fichte</td><td>1</td><td>p </td><td>  1.3763096</td></tr>\n",
       "\t<tr><td>Fichte</td><td>1</td><td>mn</td><td>  0.6302345</td></tr>\n",
       "</tbody>\n",
       "</table>\n"
      ],
      "text/latex": [
       "A tibble: 5 × 4\n",
       "\\begin{tabular}{llll}\n",
       " art & jahrgang & element & hoechstwert\\\\\n",
       " <chr> & <dbl> & <chr> & <dbl>\\\\\n",
       "\\hline\n",
       "\t Fichte & 2 & TC & 550.9989485\\\\\n",
       "\t Buche  & 1 & k  &   8.5959052\\\\\n",
       "\t Fichte & 2 & s  &   1.1037528\\\\\n",
       "\t Fichte & 1 & p  &   1.3763096\\\\\n",
       "\t Fichte & 1 & mn &   0.6302345\\\\\n",
       "\\end{tabular}\n"
      ],
      "text/markdown": [
       "\n",
       "A tibble: 5 × 4\n",
       "\n",
       "| art &lt;chr&gt; | jahrgang &lt;dbl&gt; | element &lt;chr&gt; | hoechstwert &lt;dbl&gt; |\n",
       "|---|---|---|---|\n",
       "| Fichte | 2 | TC | 550.9989485 |\n",
       "| Buche  | 1 | k  |   8.5959052 |\n",
       "| Fichte | 2 | s  |   1.1037528 |\n",
       "| Fichte | 1 | p  |   1.3763096 |\n",
       "| Fichte | 1 | mn |   0.6302345 |\n",
       "\n"
      ],
      "text/plain": [
       "  art    jahrgang element hoechstwert\n",
       "1 Fichte 2        TC      550.9989485\n",
       "2 Buche  1        k         8.5959052\n",
       "3 Fichte 2        s         1.1037528\n",
       "4 Fichte 1        p         1.3763096\n",
       "5 Fichte 1        mn        0.6302345"
      ]
     },
     "metadata": {},
     "output_type": "display_data"
    }
   ],
   "source": [
    "d_long %>%\n",
    "    summarise(hoechstwert = max(messwert, na.rm = TRUE), ## NAs sollen nicht zu einem NA im Maximum führen\n",
    "              .by = c(art, jahrgang, element)\n",
    "             ) %>%\n",
    "    arrange(art, jahrgang, element)  %>% ## nach diesen Variablen sortieren\n",
    "    sample_n(5)"
   ]
  },
  {
   "cell_type": "markdown",
   "id": "c0d2276c",
   "metadata": {},
   "source": [
    "Für mehrere Statistiken (wo `summarise` mehr als einen Wert = Zeile zurückgibt): `reframe`"
   ]
  },
  {
   "cell_type": "code",
   "execution_count": 55,
   "id": "3d3da74f",
   "metadata": {},
   "outputs": [
    {
     "data": {
      "text/html": [
       "<table class=\"dataframe\">\n",
       "<caption>A tibble: 5 × 6</caption>\n",
       "<thead>\n",
       "\t<tr><th scope=col>art</th><th scope=col>jahrgang</th><th scope=col>element</th><th scope=col>min</th><th scope=col>median</th><th scope=col>max</th></tr>\n",
       "\t<tr><th scope=col>&lt;chr&gt;</th><th scope=col>&lt;dbl&gt;</th><th scope=col>&lt;chr&gt;</th><th scope=col>&lt;dbl&gt;</th><th scope=col>&lt;dbl&gt;</th><th scope=col>&lt;dbl&gt;</th></tr>\n",
       "</thead>\n",
       "<tbody>\n",
       "\t<tr><td>Fichte</td><td>2</td><td>ca</td><td>4.0110132</td><td> 7.7630843</td><td>12.788960</td></tr>\n",
       "\t<tr><td>Fichte</td><td>2</td><td>s </td><td>0.5999368</td><td> 0.8170114</td><td> 1.103753</td></tr>\n",
       "\t<tr><td>Buche </td><td>1</td><td>p </td><td>0.4112280</td><td> 0.7807274</td><td> 1.178762</td></tr>\n",
       "\t<tr><td>Fichte</td><td>2</td><td>n </td><td>7.6586433</td><td>11.7320840</td><td>14.588581</td></tr>\n",
       "\t<tr><td>Fichte</td><td>1</td><td>k </td><td>2.0371732</td><td> 4.3360387</td><td> 7.224587</td></tr>\n",
       "</tbody>\n",
       "</table>\n"
      ],
      "text/latex": [
       "A tibble: 5 × 6\n",
       "\\begin{tabular}{llllll}\n",
       " art & jahrgang & element & min & median & max\\\\\n",
       " <chr> & <dbl> & <chr> & <dbl> & <dbl> & <dbl>\\\\\n",
       "\\hline\n",
       "\t Fichte & 2 & ca & 4.0110132 &  7.7630843 & 12.788960\\\\\n",
       "\t Fichte & 2 & s  & 0.5999368 &  0.8170114 &  1.103753\\\\\n",
       "\t Buche  & 1 & p  & 0.4112280 &  0.7807274 &  1.178762\\\\\n",
       "\t Fichte & 2 & n  & 7.6586433 & 11.7320840 & 14.588581\\\\\n",
       "\t Fichte & 1 & k  & 2.0371732 &  4.3360387 &  7.224587\\\\\n",
       "\\end{tabular}\n"
      ],
      "text/markdown": [
       "\n",
       "A tibble: 5 × 6\n",
       "\n",
       "| art &lt;chr&gt; | jahrgang &lt;dbl&gt; | element &lt;chr&gt; | min &lt;dbl&gt; | median &lt;dbl&gt; | max &lt;dbl&gt; |\n",
       "|---|---|---|---|---|---|\n",
       "| Fichte | 2 | ca | 4.0110132 |  7.7630843 | 12.788960 |\n",
       "| Fichte | 2 | s  | 0.5999368 |  0.8170114 |  1.103753 |\n",
       "| Buche  | 1 | p  | 0.4112280 |  0.7807274 |  1.178762 |\n",
       "| Fichte | 2 | n  | 7.6586433 | 11.7320840 | 14.588581 |\n",
       "| Fichte | 1 | k  | 2.0371732 |  4.3360387 |  7.224587 |\n",
       "\n"
      ],
      "text/plain": [
       "  art    jahrgang element min       median     max      \n",
       "1 Fichte 2        ca      4.0110132  7.7630843 12.788960\n",
       "2 Fichte 2        s       0.5999368  0.8170114  1.103753\n",
       "3 Buche  1        p       0.4112280  0.7807274  1.178762\n",
       "4 Fichte 2        n       7.6586433 11.7320840 14.588581\n",
       "5 Fichte 1        k       2.0371732  4.3360387  7.224587"
      ]
     },
     "metadata": {},
     "output_type": "display_data"
    }
   ],
   "source": [
    "d_long %>%\n",
    "    reframe(min = min(messwert, na.rm = TRUE),\n",
    "            median = median(messwert, na.rm = TRUE),\n",
    "            max = max(messwert, na.rm = TRUE),\n",
    "            .by = c(art, jahrgang, element)\n",
    "            ) %>%\n",
    "    sample_n(5)"
   ]
  },
  {
   "cell_type": "markdown",
   "id": "23e213c9",
   "metadata": {},
   "source": [
    "# Analysieren am Fließband: der Vorteil von *tidy data* und der Pipeline"
   ]
  },
  {
   "cell_type": "markdown",
   "id": "5a5b3fa4",
   "metadata": {},
   "source": [
    "Unterscheiden sich (frische) Fichtennadeln und Buchenblätter in ihren Elementgehalten?\n",
    "Es wäre schön, den Test für alle Elemente durchzuführen, ohne jedesmal ein Element angeben zu müssen.\n"
   ]
  },
  {
   "cell_type": "markdown",
   "id": "6a84fb86",
   "metadata": {},
   "source": [
    "Hier soll, für die schnelle Orientierung, ein nichtparametrischer Test verwendet werden (Wilcoxon-Rangsummen ~ Mann-Whitney-U; vgl: `?wilcox.test`):"
   ]
  },
  {
   "cell_type": "code",
   "execution_count": 175,
   "id": "23b13c5c",
   "metadata": {},
   "outputs": [
    {
     "data": {
      "text/html": [
       "<table class=\"dataframe\">\n",
       "<caption>A tibble: 9 × 2</caption>\n",
       "<thead>\n",
       "\t<tr><th scope=col>element</th><th scope=col>p_wilcox</th></tr>\n",
       "\t<tr><th scope=col>&lt;chr&gt;</th><th scope=col>&lt;chr&gt;</th></tr>\n",
       "</thead>\n",
       "<tbody>\n",
       "\t<tr><td>n </td><td>0.000</td></tr>\n",
       "\t<tr><td>s </td><td>0.000</td></tr>\n",
       "\t<tr><td>ca</td><td>0.000</td></tr>\n",
       "\t<tr><td>na</td><td>0.000</td></tr>\n",
       "\t<tr><td>k </td><td>0.000</td></tr>\n",
       "\t<tr><td>mg</td><td>0.000</td></tr>\n",
       "\t<tr><td>p </td><td>0.000</td></tr>\n",
       "\t<tr><td>mn</td><td>0.000</td></tr>\n",
       "\t<tr><td>TC</td><td>0.004</td></tr>\n",
       "</tbody>\n",
       "</table>\n"
      ],
      "text/latex": [
       "A tibble: 9 × 2\n",
       "\\begin{tabular}{ll}\n",
       " element & p\\_wilcox\\\\\n",
       " <chr> & <chr>\\\\\n",
       "\\hline\n",
       "\t n  & 0.000\\\\\n",
       "\t s  & 0.000\\\\\n",
       "\t ca & 0.000\\\\\n",
       "\t na & 0.000\\\\\n",
       "\t k  & 0.000\\\\\n",
       "\t mg & 0.000\\\\\n",
       "\t p  & 0.000\\\\\n",
       "\t mn & 0.000\\\\\n",
       "\t TC & 0.004\\\\\n",
       "\\end{tabular}\n"
      ],
      "text/markdown": [
       "\n",
       "A tibble: 9 × 2\n",
       "\n",
       "| element &lt;chr&gt; | p_wilcox &lt;chr&gt; |\n",
       "|---|---|\n",
       "| n  | 0.000 |\n",
       "| s  | 0.000 |\n",
       "| ca | 0.000 |\n",
       "| na | 0.000 |\n",
       "| k  | 0.000 |\n",
       "| mg | 0.000 |\n",
       "| p  | 0.000 |\n",
       "| mn | 0.000 |\n",
       "| TC | 0.004 |\n",
       "\n"
      ],
      "text/plain": [
       "  element p_wilcox\n",
       "1 n       0.000   \n",
       "2 s       0.000   \n",
       "3 ca      0.000   \n",
       "4 na      0.000   \n",
       "5 k       0.000   \n",
       "6 mg      0.000   \n",
       "7 p       0.000   \n",
       "8 mn      0.000   \n",
       "9 TC      0.004   "
      ]
     },
     "metadata": {},
     "output_type": "display_data"
    }
   ],
   "source": [
    "d_long %>%\n",
    "    filter(jahrgang == 1)  %>% ## Achtung auf das doppelte Gleichheitszeichen!\n",
    "    select(-c(standort, jahr)) %>% ## Annahme: keine Interaktion mit Standort und Jahr\n",
    "    reframe(p_wilcox = wilcox.test(messwert ~ art)$p.value,\n",
    "            .by = element ## führt die Aggregation (hier: Test) pro Element durch\n",
    "             )  %>% \n",
    "    mutate(p_wilcox = p_wilcox %>% round(3)  %>%  format(scientific = F))"
   ]
  },
  {
   "cell_type": "markdown",
   "id": "27316bf8",
   "metadata": {},
   "source": [
    "**Tipp:**\n",
    "\n",
    "**`export('clipboard')`** {rio} kopiert einen *dataframe* in die Zwischenablage, fürs Einfügen in Excel oder anderen Präsentationssoftware"
   ]
  },
  {
   "cell_type": "markdown",
   "id": "6afafca8",
   "metadata": {},
   "source": [
    "Kontrollplot:"
   ]
  },
  {
   "cell_type": "code",
   "execution_count": 176,
   "id": "b8d5b76f",
   "metadata": {},
   "outputs": [
    {
     "name": "stderr",
     "output_type": "stream",
     "text": [
      "Warning message:\n",
      "\"\u001b[1m\u001b[22mRemoved 123 rows containing non-finite values (`stat_boxplot()`).\"\n"
     ]
    },
    {
     "data": {
      "image/png": "[encoded data removed]",
      "text/plain": [
       "plot without title"
      ]
     },
     "metadata": {
      "image/png": {
       "height": 420,
       "width": 420
      }
     },
     "output_type": "display_data"
    }
   ],
   "source": [
    "d_long %>%\n",
    "    filter(jahrgang == 1) %>%    \n",
    "    ggplot() +\n",
    "        geom_boxplot(aes(x = art, y = messwert)) +\n",
    "        facet_wrap(~ element, scales = 'free') ## eine Kachel pro Element"
   ]
  },
  {
   "cell_type": "markdown",
   "id": "603fe541",
   "metadata": {},
   "source": [
    "# Visualisierung"
   ]
  },
  {
   "cell_type": "markdown",
   "id": "0cf2498c",
   "metadata": {},
   "source": [
    "Von den vielen Grafikpaketen ist **{ggplot}** unbestritten die Nummer Eins.\n",
    "\n",
    "ggplot braucht etwas Umdenken, wurde aber in kurzer Zeit so populär, dass ein ganzes Visualisierungs-Biotop rund um {ggplot} entstanden ist, und andere Sprachen Konzept und z. T. auch Design übernommen haben."
   ]
  },
  {
   "cell_type": "markdown",
   "id": "b4354f25",
   "metadata": {},
   "source": [
    "Das **gg** steht für *grammar of graphics*: ein Diagramm wird, wie ein Satz, als Kombination von Grundelementen verstanden:\n",
    "\n",
    "- Daten\n",
    "- visuelle Reize (*aesthetics*): Position, Größe, Farbe, Form ... zur Kodierung der Daten\n",
    "- Geometrie: Punkt, Linie, Fläche, Band, Boxplot ...\n",
    "\n",
    "Aus diesen Komponenten setzt sich ein *layer* zusammen, und verschiedene layer können überlagert werden (z. B. Punkte und Boxplot, Polygone und Hintergrundkarten, Trendlinien und Scatterplots)"
   ]
  },
  {
   "cell_type": "markdown",
   "id": "955cb6a5",
   "metadata": {},
   "source": [
    "- Beispiel: Trend der Elementgehalte in Buchenblättern"
   ]
  },
  {
   "cell_type": "code",
   "execution_count": 187,
   "id": "a08df2ed",
   "metadata": {
    "scrolled": true
   },
   "outputs": [
    {
     "name": "stderr",
     "output_type": "stream",
     "text": [
      "\u001b[1m\u001b[22m`geom_smooth()` using formula = 'y ~ x'\n",
      "Warning message:\n",
      "\"\u001b[1m\u001b[22mRemoved 68 rows containing non-finite values (`stat_smooth()`).\"\n",
      "Warning message:\n",
      "\"\u001b[1m\u001b[22mRemoved 68 rows containing missing values (`geom_point()`).\"\n"
     ]
    },
    {
     "data": {
      "image/png": "[encoded data removed]",
      "text/plain": [
       "plot without title"
      ]
     },
     "metadata": {
      "image/png": {
       "height": 420,
       "width": 420
      }
     },
     "output_type": "display_data"
    }
   ],
   "source": [
    "d_long %>%\n",
    "    filter(art == 'Buche') %>% \n",
    "    ggplot(aes(x = jahr, y = messwert)) + ## \"Grundgerüst für Plot anlegen\"\n",
    "        geom_point(alpha = .5) + ## Punktgeometrie hinzufügen: \"scatterplot\", alpha = .5 (halbtransparent)\n",
    "        geom_smooth(method = 'lm') +\n",
    "        facet_wrap(art ~ element, scales = 'free')"
   ]
  },
  {
   "cell_type": "markdown",
   "id": "395525fa",
   "metadata": {},
   "source": [
    "`ggsave('Abbildung_1.png')` speichert den aktuellsten Plot im aus der Dateiendung ableitbaren Format. Breite, Höhe und Auflösung können zusätzlich angegeben werden.\n",
    "\n",
    "💡 **best practice**\n",
    "\n",
    "Grafiken speichere ich routinemäßig (auch) im SVG-Format, das eine verlustfreie Darstellung im Web und die bequeme Nachbearbeitung mit anderer Software wie dem freien [**Inkscape**](https://inkscape.org/de/) erlaubt.\n"
   ]
  }
 ],
 "metadata": {
  "kernelspec": {
   "display_name": "R",
   "language": "R",
   "name": "ir"
  },
  "language_info": {
   "codemirror_mode": "r",
   "file_extension": ".r",
   "mimetype": "text/x-r-source",
   "name": "R",
   "pygments_lexer": "r",
   "version": "4.1.1"
  },
  "toc": {
   "base_numbering": 1,
   "nav_menu": {},
   "number_sections": true,
   "sideBar": true,
   "skip_h1_title": false,
   "title_cell": "Table of Contents",
   "title_sidebar": "Contents",
   "toc_cell": false,
   "toc_position": {},
   "toc_section_display": true,
   "toc_window_display": true
  }
 },
 "nbformat": 4,
 "nbformat_minor": 5
}
